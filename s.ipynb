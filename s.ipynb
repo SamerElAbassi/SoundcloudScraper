{
 "cells": [
  {
   "cell_type": "code",
   "execution_count": 6,
   "outputs": [],
   "source": [
    "# %%\n",
    "from user_related import User\n",
    "from selenium.webdriver import Chrome\n",
    "import time\n",
    "import os\n",
    "from os import path\n",
    "import pandas as pd\n",
    "from bs4 import BeautifulSoup\n",
    "import pickle\n",
    "\n",
    "def get_user_from_url(url):\n",
    "    return url[len(\"https://soundcloud.com/\"):]\n",
    "\n",
    "\n",
    "def store_data(data, filename):\n",
    "    with open(filename, \"w\") as f:\n",
    "        for index, info in enumerate(data):\n",
    "            f.write(str(index) + \",\" + str(info) + \"\\n\")\n",
    "\n",
    "\n",
    "def get_track_info(new_tab):\n",
    "    soup=BeautifulSoup(new_tab.driver.page_source,'lxml')\n",
    "    sound_contents=soup.find_all('div',class_=\"sound__content\")\n",
    "    contents=[sound_content.find('a',class_=\"soundTitle__title sc-link-dark\") for sound_content in sound_contents]\n",
    "    for content in contents:\n",
    "        title=content.get_text()\n",
    "        print(content.get('href'))\n",
    "    return contents\n",
    "\n",
    "\n",
    "\n",
    "\n",
    "\n",
    "class NewTab:\n",
    "    def __init__(self, driver, username, scroll_pause_time=1, open_tab=1, handle=-1, user=None):\n",
    "        self.driver = driver\n",
    "        self.username = username\n",
    "        self.scroll_pause_time = scroll_pause_time\n",
    "        self.url = \"https://soundcloud.com/\" + username + \"/tracks\"\n",
    "        if open_tab:\n",
    "            self.open_tab(handle)\n",
    "        self.tracks = []\n",
    "        self.followers = []\n",
    "        self.user = user\n",
    "\n",
    "    def open_tab(self, handle=-1):\n",
    "        self.driver.execute_script(\"window.open('');\")\n",
    "        self.driver.switch_to.window(self.driver.window_handles[handle])\n",
    "        self.driver.get(self.url)\n",
    "    def get_username(self):\n",
    "        return self.username\n",
    "    def scroll(self):\n",
    "        last_height = self.driver.execute_script(\"return document.body.scrollHeight\")\n",
    "        self.driver.execute_script(\"window.scrollTo(0, document.body.scrollHeight);\")\n",
    "        time.sleep(self.scroll_pause_time)\n",
    "        new_height = self.driver.execute_script(\"return document.body.scrollHeight\")\n",
    "        return 0 if new_height == last_height else 1\n",
    "\n",
    "    def get_tracks(self, limit=20):\n",
    "        counter = 0\n",
    "        tracks = []\n",
    "        while self.scroll() and counter < limit:\n",
    "            counter += 1\n",
    "        self.continut=get_track_info(self)\n",
    "        '''\n",
    "        for track in tracks:\n",
    "            track_url = track.get_attribute\n",
    "        # self.tracks= selecteaza piesa extrage data compara cu diff\n",
    "        return self.driver.find_elements_by_class_name(\"soundList__item\")\n",
    "        '''\n",
    "\n",
    "\n",
    "class InitTab(NewTab):\n",
    "    def __init__(self, driver, username):\n",
    "        super().__init__(driver, username, open_tab=0)\n",
    "        self.url = \"https://soundcloud.com/\" + self.username + \"/following\"\n",
    "        self.open_tab()\n",
    "\n",
    "    def get_followers(self, limit=100):\n",
    "        followers = []\n",
    "        counter = 0\n",
    "\n",
    "        while self.scroll() and counter < limit:\n",
    "            print(\"Still scrolling\")\n",
    "            counter += 1\n",
    "\n",
    "        followers.extend(self.driver.find_elements_by_class_name(\"userBadgeListItem__image\"))\n",
    "        self.followers = [elem.get_attribute('href') for elem in followers]\n",
    "        store_data(self.followers, \"followers.txt\")\n",
    "\n",
    "        return self.followers\n",
    "\n",
    "\n",
    "class TabManager:\n",
    "    def __init__(self, init_username, tabs=None, init_tab=None):\n",
    "        self.driver = Chrome()\n",
    "        self.tabs = tabs\n",
    "        self.init_username = init_username\n",
    "        self.init_tab = init_tab\n",
    "        self.user = User(init_username, \"init\")\n",
    "\n",
    "    def startup(self):\n",
    "        self.init_tab = InitTab(self.driver, self.init_username)\n",
    "        time.sleep(1)\n",
    "        if path.exists(\"followers.txt\"):\n",
    "            followers_dataframe = pd.read_csv(\"followers.txt\")\n",
    "            followers = followers_dataframe['followers'].values\n",
    "        else:\n",
    "            followers = self.init_tab.get_followers()\n",
    "\n",
    "        self.user.set_follow_list(followers)\n",
    "\n",
    "    def open_tabs(self):\n",
    "        tabs = []\n",
    "        for index,followed_url in enumerate(self.user.get_follow_list()):\n",
    "            username=get_user_from_url(followed_url)\n",
    "            new_tab = NewTab(self.driver, username, open_tab=1, handle=index)\n",
    "            tabs.append(new_tab)\n",
    "\n",
    "    def get_followers(self):\n",
    "        return self.user.get_follow_list()"
   ],
   "metadata": {
    "collapsed": false,
    "pycharm": {
     "name": "#%%\n"
    }
   }
  },
  {
   "cell_type": "code",
   "execution_count": 7,
   "outputs": [
    {
     "ename": "TypeError",
     "evalue": "'NoneType' object is not callable",
     "output_type": "error",
     "traceback": [
      "\u001B[1;31m---------------------------------------------------------------------------\u001B[0m",
      "\u001B[1;31mTypeError\u001B[0m                                 Traceback (most recent call last)",
      "\u001B[1;32m<ipython-input-7-b2ad9ecaf2ee>\u001B[0m in \u001B[0;36m<module>\u001B[1;34m\u001B[0m\n\u001B[0;32m      1\u001B[0m \u001B[0mdriver\u001B[0m \u001B[1;33m=\u001B[0m \u001B[0mChrome\u001B[0m\u001B[1;33m(\u001B[0m\u001B[1;33m)\u001B[0m\u001B[1;33m\u001B[0m\u001B[1;33m\u001B[0m\u001B[0m\n\u001B[0;32m      2\u001B[0m \u001B[0mnew_tab\u001B[0m \u001B[1;33m=\u001B[0m \u001B[0mNewTab\u001B[0m\u001B[1;33m(\u001B[0m\u001B[0mdriver\u001B[0m\u001B[1;33m,\u001B[0m \u001B[1;34m\"orieliel-watcher\"\u001B[0m\u001B[1;33m)\u001B[0m\u001B[1;33m\u001B[0m\u001B[1;33m\u001B[0m\u001B[0m\n\u001B[1;32m----> 3\u001B[1;33m \u001B[0mtracks\u001B[0m \u001B[1;33m=\u001B[0m \u001B[0mnew_tab\u001B[0m\u001B[1;33m.\u001B[0m\u001B[0mget_tracks\u001B[0m\u001B[1;33m(\u001B[0m\u001B[0mlimit\u001B[0m\u001B[1;33m=\u001B[0m\u001B[1;36m3\u001B[0m\u001B[1;33m)\u001B[0m\u001B[1;33m\u001B[0m\u001B[1;33m\u001B[0m\u001B[0m\n\u001B[0m\u001B[0;32m      4\u001B[0m \u001B[0mdriver\u001B[0m\u001B[1;33m.\u001B[0m\u001B[0mquit\u001B[0m\u001B[1;33m(\u001B[0m\u001B[1;33m)\u001B[0m\u001B[1;33m\u001B[0m\u001B[1;33m\u001B[0m\u001B[0m\n",
      "\u001B[1;32m<ipython-input-6-3bf74e603600>\u001B[0m in \u001B[0;36mget_tracks\u001B[1;34m(self, limit)\u001B[0m\n\u001B[0;32m     62\u001B[0m         \u001B[1;32mwhile\u001B[0m \u001B[0mself\u001B[0m\u001B[1;33m.\u001B[0m\u001B[0mscroll\u001B[0m\u001B[1;33m(\u001B[0m\u001B[1;33m)\u001B[0m \u001B[1;32mand\u001B[0m \u001B[0mcounter\u001B[0m \u001B[1;33m<\u001B[0m \u001B[0mlimit\u001B[0m\u001B[1;33m:\u001B[0m\u001B[1;33m\u001B[0m\u001B[1;33m\u001B[0m\u001B[0m\n\u001B[0;32m     63\u001B[0m             \u001B[0mcounter\u001B[0m \u001B[1;33m+=\u001B[0m \u001B[1;36m1\u001B[0m\u001B[1;33m\u001B[0m\u001B[1;33m\u001B[0m\u001B[0m\n\u001B[1;32m---> 64\u001B[1;33m         \u001B[0mself\u001B[0m\u001B[1;33m.\u001B[0m\u001B[0mcontinut\u001B[0m\u001B[1;33m=\u001B[0m\u001B[0mget_track_info\u001B[0m\u001B[1;33m(\u001B[0m\u001B[0mself\u001B[0m\u001B[1;33m)\u001B[0m\u001B[1;33m\u001B[0m\u001B[1;33m\u001B[0m\u001B[0m\n\u001B[0m\u001B[0;32m     65\u001B[0m         '''\n\u001B[0;32m     66\u001B[0m         \u001B[1;32mfor\u001B[0m \u001B[0mtrack\u001B[0m \u001B[1;32min\u001B[0m \u001B[0mtracks\u001B[0m\u001B[1;33m:\u001B[0m\u001B[1;33m\u001B[0m\u001B[1;33m\u001B[0m\u001B[0m\n",
      "\u001B[1;32m<ipython-input-6-3bf74e603600>\u001B[0m in \u001B[0;36mget_track_info\u001B[1;34m(new_tab)\u001B[0m\n\u001B[0;32m     25\u001B[0m     \u001B[1;32mfor\u001B[0m \u001B[0mcontent\u001B[0m \u001B[1;32min\u001B[0m \u001B[0mcontents\u001B[0m\u001B[1;33m:\u001B[0m\u001B[1;33m\u001B[0m\u001B[1;33m\u001B[0m\u001B[0m\n\u001B[0;32m     26\u001B[0m         \u001B[0mtitle\u001B[0m\u001B[1;33m=\u001B[0m\u001B[0mcontent\u001B[0m\u001B[1;33m.\u001B[0m\u001B[0mget_text\u001B[0m\u001B[1;33m(\u001B[0m\u001B[1;33m)\u001B[0m\u001B[1;33m\u001B[0m\u001B[1;33m\u001B[0m\u001B[0m\n\u001B[1;32m---> 27\u001B[1;33m         \u001B[0mprint\u001B[0m\u001B[1;33m(\u001B[0m\u001B[0mcontent\u001B[0m\u001B[1;33m.\u001B[0m\u001B[0mget_attribute\u001B[0m\u001B[1;33m(\u001B[0m\u001B[1;34m'href'\u001B[0m\u001B[1;33m)\u001B[0m\u001B[1;33m)\u001B[0m\u001B[1;33m\u001B[0m\u001B[1;33m\u001B[0m\u001B[0m\n\u001B[0m\u001B[0;32m     28\u001B[0m     \u001B[1;32mreturn\u001B[0m \u001B[0mcontents\u001B[0m\u001B[1;33m\u001B[0m\u001B[1;33m\u001B[0m\u001B[0m\n\u001B[0;32m     29\u001B[0m \u001B[1;33m\u001B[0m\u001B[0m\n",
      "\u001B[1;31mTypeError\u001B[0m: 'NoneType' object is not callable"
     ]
    }
   ],
   "source": [
    "driver = Chrome()\n",
    "new_tab = NewTab(driver, \"orieliel-watcher\")\n",
    "tracks = new_tab.get_tracks(limit=3)\n",
    "driver.quit()"
   ],
   "metadata": {
    "collapsed": false,
    "pycharm": {
     "name": "#%%\n"
    }
   }
  },
  {
   "cell_type": "code",
   "execution_count": 9,
   "outputs": [
    {
     "ename": "FeatureNotFound",
     "evalue": "Couldn't find a tree builder with the features you requested: lxml. Do you need to install a parser library?",
     "output_type": "error",
     "traceback": [
      "\u001B[1;31m---------------------------------------------------------------------------\u001B[0m",
      "\u001B[1;31mFeatureNotFound\u001B[0m                           Traceback (most recent call last)",
      "\u001B[1;32m<ipython-input-9-07c59a5f8a2d>\u001B[0m in \u001B[0;36m<module>\u001B[1;34m\u001B[0m\n\u001B[0;32m      1\u001B[0m \u001B[0mdriver\u001B[0m\u001B[1;33m=\u001B[0m\u001B[0mChrome\u001B[0m\u001B[1;33m(\u001B[0m\u001B[1;33m)\u001B[0m\u001B[1;33m\u001B[0m\u001B[1;33m\u001B[0m\u001B[0m\n\u001B[0;32m      2\u001B[0m \u001B[0mnew_tab\u001B[0m\u001B[1;33m=\u001B[0m\u001B[0mNewTab\u001B[0m\u001B[1;33m(\u001B[0m\u001B[0mdriver\u001B[0m\u001B[1;33m,\u001B[0m\u001B[1;34m\"orieliel-watcher\"\u001B[0m\u001B[1;33m)\u001B[0m\u001B[1;33m\u001B[0m\u001B[1;33m\u001B[0m\u001B[0m\n\u001B[1;32m----> 3\u001B[1;33m \u001B[0mtracks\u001B[0m\u001B[1;33m=\u001B[0m\u001B[0mnew_tab\u001B[0m\u001B[1;33m.\u001B[0m\u001B[0mget_tracks\u001B[0m\u001B[1;33m(\u001B[0m\u001B[0mlimit\u001B[0m\u001B[1;33m=\u001B[0m\u001B[1;36m3\u001B[0m\u001B[1;33m)\u001B[0m\u001B[1;33m\u001B[0m\u001B[1;33m\u001B[0m\u001B[0m\n\u001B[0m\u001B[0;32m      4\u001B[0m \u001B[0mtime\u001B[0m\u001B[1;33m.\u001B[0m\u001B[0msleep\u001B[0m\u001B[1;33m(\u001B[0m\u001B[1;36m5\u001B[0m\u001B[1;33m)\u001B[0m\u001B[1;33m\u001B[0m\u001B[1;33m\u001B[0m\u001B[0m\n\u001B[0;32m      5\u001B[0m \u001B[0mhref\u001B[0m\u001B[1;33m=\u001B[0m\u001B[1;33m[\u001B[0m\u001B[0melem\u001B[0m\u001B[1;33m.\u001B[0m\u001B[0mget_attribute\u001B[0m\u001B[1;33m(\u001B[0m\u001B[1;34m'href'\u001B[0m\u001B[1;33m)\u001B[0m \u001B[1;32mfor\u001B[0m \u001B[0melem\u001B[0m \u001B[1;32min\u001B[0m \u001B[0mtracks\u001B[0m\u001B[1;33m]\u001B[0m\u001B[1;33m\u001B[0m\u001B[1;33m\u001B[0m\u001B[0m\n",
      "\u001B[1;32m<ipython-input-6-2e5806c7d4e9>\u001B[0m in \u001B[0;36mget_tracks\u001B[1;34m(self, limit)\u001B[0m\n\u001B[0;32m     53\u001B[0m         \u001B[1;32mwhile\u001B[0m \u001B[0mself\u001B[0m\u001B[1;33m.\u001B[0m\u001B[0mscroll\u001B[0m\u001B[1;33m(\u001B[0m\u001B[1;33m)\u001B[0m \u001B[1;32mand\u001B[0m \u001B[0mcounter\u001B[0m \u001B[1;33m<\u001B[0m \u001B[0mlimit\u001B[0m\u001B[1;33m:\u001B[0m\u001B[1;33m\u001B[0m\u001B[1;33m\u001B[0m\u001B[0m\n\u001B[0;32m     54\u001B[0m             \u001B[0mcounter\u001B[0m \u001B[1;33m+=\u001B[0m \u001B[1;36m1\u001B[0m\u001B[1;33m\u001B[0m\u001B[1;33m\u001B[0m\u001B[0m\n\u001B[1;32m---> 55\u001B[1;33m         \u001B[0mget_track_info\u001B[0m\u001B[1;33m(\u001B[0m\u001B[0mself\u001B[0m\u001B[1;33m)\u001B[0m\u001B[1;33m\u001B[0m\u001B[1;33m\u001B[0m\u001B[0m\n\u001B[0m\u001B[0;32m     56\u001B[0m         \u001B[0mprint\u001B[0m\u001B[1;33m(\u001B[0m\u001B[0mtracks\u001B[0m\u001B[1;33m)\u001B[0m\u001B[1;33m\u001B[0m\u001B[1;33m\u001B[0m\u001B[0m\n\u001B[0;32m     57\u001B[0m         '''\n",
      "\u001B[1;32m<ipython-input-6-2e5806c7d4e9>\u001B[0m in \u001B[0;36mget_track_info\u001B[1;34m(new_tab)\u001B[0m\n\u001B[0;32m     18\u001B[0m \u001B[1;33m\u001B[0m\u001B[0m\n\u001B[0;32m     19\u001B[0m \u001B[1;32mdef\u001B[0m \u001B[0mget_track_info\u001B[0m\u001B[1;33m(\u001B[0m\u001B[0mnew_tab\u001B[0m\u001B[1;33m)\u001B[0m\u001B[1;33m:\u001B[0m\u001B[1;33m\u001B[0m\u001B[1;33m\u001B[0m\u001B[0m\n\u001B[1;32m---> 20\u001B[1;33m     \u001B[0msoup\u001B[0m\u001B[1;33m=\u001B[0m\u001B[0mBeautifulSoup\u001B[0m\u001B[1;33m(\u001B[0m\u001B[0mnew_tab\u001B[0m\u001B[1;33m.\u001B[0m\u001B[0mdriver\u001B[0m\u001B[1;33m.\u001B[0m\u001B[0mpage_source\u001B[0m\u001B[1;33m,\u001B[0m\u001B[1;34m'lxml'\u001B[0m\u001B[1;33m)\u001B[0m\u001B[1;33m\u001B[0m\u001B[1;33m\u001B[0m\u001B[0m\n\u001B[0m\u001B[0;32m     21\u001B[0m     \u001B[0msound_content\u001B[0m\u001B[1;33m=\u001B[0m\u001B[0msoup\u001B[0m\u001B[1;33m.\u001B[0m\u001B[0mfind_all\u001B[0m\u001B[1;33m(\u001B[0m\u001B[1;34m'div'\u001B[0m\u001B[1;33m,\u001B[0m\u001B[0mclass_\u001B[0m\u001B[1;33m=\u001B[0m\u001B[1;34m\"sound__content\"\u001B[0m\u001B[1;33m)\u001B[0m\u001B[1;33m\u001B[0m\u001B[1;33m\u001B[0m\u001B[0m\n\u001B[0;32m     22\u001B[0m     \u001B[0mprint\u001B[0m\u001B[1;33m(\u001B[0m\u001B[0msound_content\u001B[0m\u001B[1;33m)\u001B[0m\u001B[1;33m\u001B[0m\u001B[1;33m\u001B[0m\u001B[0m\n",
      "\u001B[1;32mC:\\ProgramData\\Anaconda3\\envs\\SoundcloudScraper\\lib\\site-packages\\bs4\\__init__.py\u001B[0m in \u001B[0;36m__init__\u001B[1;34m(self, markup, features, builder, parse_only, from_encoding, exclude_encodings, element_classes, **kwargs)\u001B[0m\n\u001B[0;32m    241\u001B[0m             \u001B[0mbuilder_class\u001B[0m \u001B[1;33m=\u001B[0m \u001B[0mbuilder_registry\u001B[0m\u001B[1;33m.\u001B[0m\u001B[0mlookup\u001B[0m\u001B[1;33m(\u001B[0m\u001B[1;33m*\u001B[0m\u001B[0mfeatures\u001B[0m\u001B[1;33m)\u001B[0m\u001B[1;33m\u001B[0m\u001B[1;33m\u001B[0m\u001B[0m\n\u001B[0;32m    242\u001B[0m             \u001B[1;32mif\u001B[0m \u001B[0mbuilder_class\u001B[0m \u001B[1;32mis\u001B[0m \u001B[1;32mNone\u001B[0m\u001B[1;33m:\u001B[0m\u001B[1;33m\u001B[0m\u001B[1;33m\u001B[0m\u001B[0m\n\u001B[1;32m--> 243\u001B[1;33m                 raise FeatureNotFound(\n\u001B[0m\u001B[0;32m    244\u001B[0m                     \u001B[1;34m\"Couldn't find a tree builder with the features you \"\u001B[0m\u001B[1;33m\u001B[0m\u001B[1;33m\u001B[0m\u001B[0m\n\u001B[0;32m    245\u001B[0m                     \u001B[1;34m\"requested: %s. Do you need to install a parser library?\"\u001B[0m\u001B[1;33m\u001B[0m\u001B[1;33m\u001B[0m\u001B[0m\n",
      "\u001B[1;31mFeatureNotFound\u001B[0m: Couldn't find a tree builder with the features you requested: lxml. Do you need to install a parser library?"
     ]
    }
   ],
   "source": [],
   "metadata": {
    "collapsed": false,
    "pycharm": {
     "name": "#%%\n"
    }
   }
  },
  {
   "cell_type": "code",
   "execution_count": 8,
   "outputs": [],
   "source": [
    "\n",
    "\n",
    "from datetime import datetime,date\n",
    "data=datetime.today().date()\n",
    "better_form=datetime.strftime()"
   ],
   "metadata": {
    "collapsed": false,
    "pycharm": {
     "name": "#%%\n"
    }
   }
  },
  {
   "cell_type": "code",
   "execution_count": null,
   "outputs": [],
   "source": [],
   "metadata": {
    "collapsed": false,
    "pycharm": {
     "name": "#%%\n"
    }
   }
  }
 ],
 "metadata": {
  "kernelspec": {
   "display_name": "Python 3",
   "language": "python",
   "name": "python3"
  },
  "language_info": {
   "codemirror_mode": {
    "name": "ipython",
    "version": 2
   },
   "file_extension": ".py",
   "mimetype": "text/x-python",
   "name": "python",
   "nbconvert_exporter": "python",
   "pygments_lexer": "ipython2",
   "version": "3.7.9-final"
  }
 },
 "nbformat": 4,
 "nbformat_minor": 0
}